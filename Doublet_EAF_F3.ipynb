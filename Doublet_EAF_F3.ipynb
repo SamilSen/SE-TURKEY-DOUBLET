{
 "cells": [
  {
   "cell_type": "code",
   "execution_count": 1,
   "metadata": {
    "scrolled": true
   },
   "outputs": [
    {
     "name": "stdout",
     "output_type": "stream",
     "text": [
      "Requirement already satisfied: pandas in c:\\users\\samil\\anaconda3\\lib\\site-packages (2.0.3)\n",
      "Requirement already satisfied: tzdata>=2022.1 in c:\\users\\samil\\anaconda3\\lib\\site-packages (from pandas) (2023.3)\n",
      "Requirement already satisfied: numpy>=1.20.3; python_version < \"3.10\" in c:\\users\\samil\\anaconda3\\lib\\site-packages (from pandas) (1.24.4)\n",
      "Requirement already satisfied: python-dateutil>=2.8.2 in c:\\users\\samil\\anaconda3\\lib\\site-packages (from pandas) (2.8.2)\n",
      "Requirement already satisfied: pytz>=2020.1 in c:\\users\\samil\\anaconda3\\lib\\site-packages (from pandas) (2020.1)\n",
      "Requirement already satisfied: six>=1.5 in c:\\users\\samil\\anaconda3\\lib\\site-packages (from python-dateutil>=2.8.2->pandas) (1.15.0)\n",
      "Note: you may need to restart the kernel to use updated packages.\n"
     ]
    }
   ],
   "source": [
    "pip install pandas "
   ]
  },
  {
   "cell_type": "code",
   "execution_count": 2,
   "metadata": {},
   "outputs": [
    {
     "name": "stdout",
     "output_type": "stream",
     "text": [
      "Requirement already satisfied: plotly in c:\\users\\samil\\anaconda3\\lib\\site-packages (5.18.0)Note: you may need to restart the kernel to use updated packages.\n",
      "Requirement already satisfied: packaging in c:\\users\\samil\\anaconda3\\lib\\site-packages (from plotly) (20.4)\n",
      "Requirement already satisfied: tenacity>=6.2.0 in c:\\users\\samil\\anaconda3\\lib\\site-packages (from plotly) (8.2.3)\n",
      "Requirement already satisfied: six in c:\\users\\samil\\anaconda3\\lib\\site-packages (from packaging->plotly) (1.15.0)\n",
      "Requirement already satisfied: pyparsing>=2.0.2 in c:\\users\\samil\\anaconda3\\lib\\site-packages (from packaging->plotly) (2.4.7)\n",
      "\n"
     ]
    }
   ],
   "source": [
    "pip install plotly"
   ]
  },
  {
   "cell_type": "code",
   "execution_count": 3,
   "metadata": {},
   "outputs": [
    {
     "name": "stdout",
     "output_type": "stream",
     "text": [
      "Requirement already satisfied: matplotlib in c:\\users\\samil\\anaconda3\\lib\\site-packages (3.7.4)\n",
      "Requirement already satisfied: numpy<2,>=1.20 in c:\\users\\samil\\anaconda3\\lib\\site-packages (from matplotlib) (1.24.4)\n",
      "Requirement already satisfied: packaging>=20.0 in c:\\users\\samil\\anaconda3\\lib\\site-packages (from matplotlib) (20.4)\n",
      "Requirement already satisfied: pillow>=6.2.0 in c:\\users\\samil\\anaconda3\\lib\\site-packages (from matplotlib) (7.2.0)\n",
      "Requirement already satisfied: contourpy>=1.0.1 in c:\\users\\samil\\anaconda3\\lib\\site-packages (from matplotlib) (1.1.1)\n",
      "Requirement already satisfied: pyparsing>=2.3.1 in c:\\users\\samil\\anaconda3\\lib\\site-packages (from matplotlib) (2.4.7)\n",
      "Requirement already satisfied: importlib-resources>=3.2.0; python_version < \"3.10\" in c:\\users\\samil\\anaconda3\\lib\\site-packages (from matplotlib) (6.1.1)\n",
      "Requirement already satisfied: kiwisolver>=1.0.1 in c:\\users\\samil\\anaconda3\\lib\\site-packages (from matplotlib) (1.2.0)\n",
      "Requirement already satisfied: cycler>=0.10 in c:\\users\\samil\\anaconda3\\lib\\site-packages (from matplotlib) (0.10.0)\n",
      "Requirement already satisfied: python-dateutil>=2.7 in c:\\users\\samil\\anaconda3\\lib\\site-packages (from matplotlib) (2.8.2)\n",
      "Requirement already satisfied: fonttools>=4.22.0 in c:\\users\\samil\\anaconda3\\lib\\site-packages (from matplotlib) (4.47.2)\n",
      "Note: you may need to restart the kernel to use updated packages.Requirement already satisfied: six in c:\\users\\samil\\anaconda3\\lib\\site-packages (from packaging>=20.0->matplotlib) (1.15.0)\n",
      "Requirement already satisfied: zipp>=3.1.0; python_version < \"3.10\" in c:\\users\\samil\\anaconda3\\lib\\site-packages (from importlib-resources>=3.2.0; python_version < \"3.10\"->matplotlib) (3.1.0)\n",
      "\n"
     ]
    }
   ],
   "source": [
    "pip install matplotlib"
   ]
  },
  {
   "cell_type": "code",
   "execution_count": 4,
   "metadata": {},
   "outputs": [
    {
     "name": "stderr",
     "output_type": "stream",
     "text": [
      "C:\\Users\\Samil\\anaconda3\\lib\\site-packages\\pandas\\core\\computation\\expressions.py:20: UserWarning: Pandas requires version '2.7.3' or newer of 'numexpr' (version '2.7.1' currently installed).\n",
      "  from pandas.core.computation.check import NUMEXPR_INSTALLED\n"
     ]
    }
   ],
   "source": [
    "import matplotlib.pyplot as plt \n",
    "from mpl_toolkits.mplot3d import Axes3D\n",
    "from matplotlib.animation import FuncAnimation\n",
    "import pandas as pd\n",
    "import numpy as np\n",
    "import matplotlib.pyplot as plt"
   ]
  },
  {
   "cell_type": "code",
   "execution_count": 5,
   "metadata": {},
   "outputs": [],
   "source": [
    "raw_dataset=pd.read_csv(\"Doublet_EAF_35F3.csv\",sep=\",\")"
   ]
  },
  {
   "cell_type": "code",
   "execution_count": 6,
   "metadata": {},
   "outputs": [
    {
     "data": {
      "text/html": [
       "<div>\n",
       "<style scoped>\n",
       "    .dataframe tbody tr th:only-of-type {\n",
       "        vertical-align: middle;\n",
       "    }\n",
       "\n",
       "    .dataframe tbody tr th {\n",
       "        vertical-align: top;\n",
       "    }\n",
       "\n",
       "    .dataframe thead th {\n",
       "        text-align: right;\n",
       "    }\n",
       "</style>\n",
       "<table border=\"1\" class=\"dataframe\">\n",
       "  <thead>\n",
       "    <tr style=\"text-align: right;\">\n",
       "      <th></th>\n",
       "      <th>Date</th>\n",
       "      <th>Longitude</th>\n",
       "      <th>Latitude</th>\n",
       "      <th>Depth</th>\n",
       "      <th>Magnitude</th>\n",
       "    </tr>\n",
       "  </thead>\n",
       "  <tbody>\n",
       "    <tr>\n",
       "      <th>0</th>\n",
       "      <td>05/02/2023 04:16:52</td>\n",
       "      <td>36.044</td>\n",
       "      <td>37.411</td>\n",
       "      <td>7.08</td>\n",
       "      <td>2.0</td>\n",
       "    </tr>\n",
       "    <tr>\n",
       "      <th>1</th>\n",
       "      <td>04/02/2023 08:22:17</td>\n",
       "      <td>36.356</td>\n",
       "      <td>37.390</td>\n",
       "      <td>7.00</td>\n",
       "      <td>2.7</td>\n",
       "    </tr>\n",
       "    <tr>\n",
       "      <th>2</th>\n",
       "      <td>03/02/2023 22:43:10</td>\n",
       "      <td>38.814</td>\n",
       "      <td>38.274</td>\n",
       "      <td>6.57</td>\n",
       "      <td>2.5</td>\n",
       "    </tr>\n",
       "    <tr>\n",
       "      <th>3</th>\n",
       "      <td>03/02/2023 22:06:30</td>\n",
       "      <td>36.360</td>\n",
       "      <td>37.230</td>\n",
       "      <td>7.02</td>\n",
       "      <td>2.1</td>\n",
       "    </tr>\n",
       "    <tr>\n",
       "      <th>4</th>\n",
       "      <td>03/02/2023 11:37:12</td>\n",
       "      <td>36.395</td>\n",
       "      <td>37.201</td>\n",
       "      <td>7.01</td>\n",
       "      <td>2.2</td>\n",
       "    </tr>\n",
       "  </tbody>\n",
       "</table>\n",
       "</div>"
      ],
      "text/plain": [
       "                  Date  Longitude  Latitude  Depth  Magnitude\n",
       "0  05/02/2023 04:16:52     36.044    37.411   7.08        2.0\n",
       "1  04/02/2023 08:22:17     36.356    37.390   7.00        2.7\n",
       "2  03/02/2023 22:43:10     38.814    38.274   6.57        2.5\n",
       "3  03/02/2023 22:06:30     36.360    37.230   7.02        2.1\n",
       "4  03/02/2023 11:37:12     36.395    37.201   7.01        2.2"
      ]
     },
     "execution_count": 6,
     "metadata": {},
     "output_type": "execute_result"
    }
   ],
   "source": [
    " Doublet_EAF_35F3= raw_dataset.copy()\n",
    "Doublet_EAF_35F3.head()"
   ]
  },
  {
   "cell_type": "code",
   "execution_count": 7,
   "metadata": {},
   "outputs": [
    {
     "data": {
      "text/plain": [
       "(52, 5)"
      ]
     },
     "execution_count": 7,
     "metadata": {},
     "output_type": "execute_result"
    }
   ],
   "source": [
    "Doublet_EAF_35F3.shape"
   ]
  },
  {
   "cell_type": "code",
   "execution_count": 34,
   "metadata": {},
   "outputs": [],
   "source": [
    "x = Doublet_EAF_35F3.iloc[:,1].values\n",
    "y = Doublet_EAF_35F3.iloc[:,2].values\n",
    "z = Doublet_EAF_35F3.iloc[:,3].values\n",
    "colors = Doublet_EAF_35F3.iloc[:,4].values\n",
    "sizes = Doublet_EAF_35F3.iloc[:,4].values*50"
   ]
  },
  {
   "cell_type": "code",
   "execution_count": 35,
   "metadata": {},
   "outputs": [
    {
     "data": {
      "application/vnd.plotly.v1+json": {
       "config": {
        "plotlyServerURL": "https://plot.ly"
       },
       "data": [
        {
         "colorscale": [
          [
           0,
           "rgb(0,0,131)"
          ],
          [
           0.2,
           "rgb(0,60,170)"
          ],
          [
           0.4,
           "rgb(5,255,255)"
          ],
          [
           0.6,
           "rgb(255,255,0)"
          ],
          [
           0.8,
           "rgb(250,0,0)"
          ],
          [
           1,
           "rgb(128,0,0)"
          ]
         ],
         "geojson": "https://raw.githubusercontent.com/johan/world.geo.json/master/countries.geo.json",
         "locations": [
          "USA",
          "CAN",
          "MEX",
          "RUS",
          "CHN"
         ],
         "marker": {
          "line": {
           "width": 1
          },
          "opacity": 0.9
         },
         "type": "choroplethmapbox",
         "z": [
          1,
          1,
          1,
          1,
          1
         ],
         "zmax": 5,
         "zmin": 2
        },
        {
         "lat": [
          37.411,
          37.39,
          38.274,
          37.23,
          37.201,
          37.208,
          38.258,
          38.384,
          36.1,
          35.884,
          36.989,
          37.275,
          38.147,
          37.811,
          37.812,
          37.802,
          37.822,
          37.69,
          38.454,
          36.638,
          38.44,
          38.276,
          38.244,
          36.973,
          36.997,
          37.32,
          35.684,
          38.469,
          38.477,
          38.446,
          38.419,
          38.449,
          38.438,
          38.46,
          38.293,
          35.442,
          36.897,
          36.072,
          35.627,
          35.638,
          37.588,
          37.054,
          36.472,
          37.409,
          38.369,
          37.444,
          36.946,
          37.836,
          37.454,
          37.499,
          37.41,
          37.481
         ],
         "lon": [
          36.044,
          36.356,
          38.814,
          36.36,
          36.395,
          36.403,
          38.646,
          39.088,
          36.299,
          35.784,
          37.06,
          36.432,
          38.584,
          36.054,
          36.091,
          36.078,
          36.086,
          35.383,
          36.609,
          36.694,
          36.64,
          38.752,
          38.785,
          36.052,
          36.017,
          36.379,
          36.626,
          39.136,
          39.099,
          39.15,
          39.108,
          39.158,
          39.127,
          39.144,
          38.786,
          36.683,
          36.634,
          37.672,
          36.608,
          36.574,
          35.477,
          36.174,
          38.576,
          36.376,
          39.086,
          37.176,
          35.872,
          35.225,
          37.161,
          37.137,
          37.162,
          37.156
         ],
         "marker": {
          "color": [
           2,
           2.7,
           2.5,
           2.1,
           2.2,
           4.6,
           2.6,
           2,
           2,
           4.4,
           2.1,
           2.3,
           2.2,
           2.2,
           2.7,
           2.6,
           2,
           2.8,
           3.1,
           2.9,
           2.6,
           2.1,
           2.2,
           2.8,
           3.3,
           3.2,
           2,
           2.3,
           2.2,
           2.4,
           2,
           2,
           2.3,
           4.9,
           2,
           2.2,
           2.1,
           2.2,
           2.2,
           4.6,
           2,
           2.6,
           2.1,
           2.9,
           3.6,
           2.2,
           2.1,
           2.6,
           2.1,
           2.5,
           2,
           2.1
          ],
          "colorscale": [
           [
            0,
            "rgb(0,0,131)"
           ],
           [
            0.2,
            "rgb(0,60,170)"
           ],
           [
            0.4,
            "rgb(5,255,255)"
           ],
           [
            0.6,
            "rgb(255,255,0)"
           ],
           [
            0.8,
            "rgb(250,0,0)"
           ],
           [
            1,
            "rgb(128,0,0)"
           ]
          ],
          "size": [
           10,
           13.5,
           12.5,
           10.5,
           11,
           23,
           13,
           10,
           10,
           22,
           10.5,
           11.5,
           11,
           11,
           13.5,
           13,
           10,
           14,
           15.5,
           14.5,
           13,
           10.5,
           11,
           14,
           16.5,
           16,
           10,
           11.5,
           11,
           12,
           10,
           10,
           11.5,
           24.5,
           10,
           11,
           10.5,
           11,
           11,
           23,
           10,
           13,
           10.5,
           14.5,
           18,
           11,
           10.5,
           13,
           10.5,
           12.5,
           10,
           10.5
          ]
         },
         "mode": "markers",
         "type": "scattermapbox"
        }
       ],
       "layout": {
        "font": {
         "size": 25
        },
        "height": 640,
        "mapbox": {
         "center": {
          "lat": 37,
          "lon": 37
         },
         "style": "open-street-map",
         "zoom": 6
        },
        "template": {
         "data": {
          "bar": [
           {
            "error_x": {
             "color": "#2a3f5f"
            },
            "error_y": {
             "color": "#2a3f5f"
            },
            "marker": {
             "line": {
              "color": "#E5ECF6",
              "width": 0.5
             },
             "pattern": {
              "fillmode": "overlay",
              "size": 10,
              "solidity": 0.2
             }
            },
            "type": "bar"
           }
          ],
          "barpolar": [
           {
            "marker": {
             "line": {
              "color": "#E5ECF6",
              "width": 0.5
             },
             "pattern": {
              "fillmode": "overlay",
              "size": 10,
              "solidity": 0.2
             }
            },
            "type": "barpolar"
           }
          ],
          "carpet": [
           {
            "aaxis": {
             "endlinecolor": "#2a3f5f",
             "gridcolor": "white",
             "linecolor": "white",
             "minorgridcolor": "white",
             "startlinecolor": "#2a3f5f"
            },
            "baxis": {
             "endlinecolor": "#2a3f5f",
             "gridcolor": "white",
             "linecolor": "white",
             "minorgridcolor": "white",
             "startlinecolor": "#2a3f5f"
            },
            "type": "carpet"
           }
          ],
          "choropleth": [
           {
            "colorbar": {
             "outlinewidth": 0,
             "ticks": ""
            },
            "type": "choropleth"
           }
          ],
          "contour": [
           {
            "colorbar": {
             "outlinewidth": 0,
             "ticks": ""
            },
            "colorscale": [
             [
              0,
              "#0d0887"
             ],
             [
              0.1111111111111111,
              "#46039f"
             ],
             [
              0.2222222222222222,
              "#7201a8"
             ],
             [
              0.3333333333333333,
              "#9c179e"
             ],
             [
              0.4444444444444444,
              "#bd3786"
             ],
             [
              0.5555555555555556,
              "#d8576b"
             ],
             [
              0.6666666666666666,
              "#ed7953"
             ],
             [
              0.7777777777777778,
              "#fb9f3a"
             ],
             [
              0.8888888888888888,
              "#fdca26"
             ],
             [
              1,
              "#f0f921"
             ]
            ],
            "type": "contour"
           }
          ],
          "contourcarpet": [
           {
            "colorbar": {
             "outlinewidth": 0,
             "ticks": ""
            },
            "type": "contourcarpet"
           }
          ],
          "heatmap": [
           {
            "colorbar": {
             "outlinewidth": 0,
             "ticks": ""
            },
            "colorscale": [
             [
              0,
              "#0d0887"
             ],
             [
              0.1111111111111111,
              "#46039f"
             ],
             [
              0.2222222222222222,
              "#7201a8"
             ],
             [
              0.3333333333333333,
              "#9c179e"
             ],
             [
              0.4444444444444444,
              "#bd3786"
             ],
             [
              0.5555555555555556,
              "#d8576b"
             ],
             [
              0.6666666666666666,
              "#ed7953"
             ],
             [
              0.7777777777777778,
              "#fb9f3a"
             ],
             [
              0.8888888888888888,
              "#fdca26"
             ],
             [
              1,
              "#f0f921"
             ]
            ],
            "type": "heatmap"
           }
          ],
          "heatmapgl": [
           {
            "colorbar": {
             "outlinewidth": 0,
             "ticks": ""
            },
            "colorscale": [
             [
              0,
              "#0d0887"
             ],
             [
              0.1111111111111111,
              "#46039f"
             ],
             [
              0.2222222222222222,
              "#7201a8"
             ],
             [
              0.3333333333333333,
              "#9c179e"
             ],
             [
              0.4444444444444444,
              "#bd3786"
             ],
             [
              0.5555555555555556,
              "#d8576b"
             ],
             [
              0.6666666666666666,
              "#ed7953"
             ],
             [
              0.7777777777777778,
              "#fb9f3a"
             ],
             [
              0.8888888888888888,
              "#fdca26"
             ],
             [
              1,
              "#f0f921"
             ]
            ],
            "type": "heatmapgl"
           }
          ],
          "histogram": [
           {
            "marker": {
             "pattern": {
              "fillmode": "overlay",
              "size": 10,
              "solidity": 0.2
             }
            },
            "type": "histogram"
           }
          ],
          "histogram2d": [
           {
            "colorbar": {
             "outlinewidth": 0,
             "ticks": ""
            },
            "colorscale": [
             [
              0,
              "#0d0887"
             ],
             [
              0.1111111111111111,
              "#46039f"
             ],
             [
              0.2222222222222222,
              "#7201a8"
             ],
             [
              0.3333333333333333,
              "#9c179e"
             ],
             [
              0.4444444444444444,
              "#bd3786"
             ],
             [
              0.5555555555555556,
              "#d8576b"
             ],
             [
              0.6666666666666666,
              "#ed7953"
             ],
             [
              0.7777777777777778,
              "#fb9f3a"
             ],
             [
              0.8888888888888888,
              "#fdca26"
             ],
             [
              1,
              "#f0f921"
             ]
            ],
            "type": "histogram2d"
           }
          ],
          "histogram2dcontour": [
           {
            "colorbar": {
             "outlinewidth": 0,
             "ticks": ""
            },
            "colorscale": [
             [
              0,
              "#0d0887"
             ],
             [
              0.1111111111111111,
              "#46039f"
             ],
             [
              0.2222222222222222,
              "#7201a8"
             ],
             [
              0.3333333333333333,
              "#9c179e"
             ],
             [
              0.4444444444444444,
              "#bd3786"
             ],
             [
              0.5555555555555556,
              "#d8576b"
             ],
             [
              0.6666666666666666,
              "#ed7953"
             ],
             [
              0.7777777777777778,
              "#fb9f3a"
             ],
             [
              0.8888888888888888,
              "#fdca26"
             ],
             [
              1,
              "#f0f921"
             ]
            ],
            "type": "histogram2dcontour"
           }
          ],
          "mesh3d": [
           {
            "colorbar": {
             "outlinewidth": 0,
             "ticks": ""
            },
            "type": "mesh3d"
           }
          ],
          "parcoords": [
           {
            "line": {
             "colorbar": {
              "outlinewidth": 0,
              "ticks": ""
             }
            },
            "type": "parcoords"
           }
          ],
          "pie": [
           {
            "automargin": true,
            "type": "pie"
           }
          ],
          "scatter": [
           {
            "fillpattern": {
             "fillmode": "overlay",
             "size": 10,
             "solidity": 0.2
            },
            "type": "scatter"
           }
          ],
          "scatter3d": [
           {
            "line": {
             "colorbar": {
              "outlinewidth": 0,
              "ticks": ""
             }
            },
            "marker": {
             "colorbar": {
              "outlinewidth": 0,
              "ticks": ""
             }
            },
            "type": "scatter3d"
           }
          ],
          "scattercarpet": [
           {
            "marker": {
             "colorbar": {
              "outlinewidth": 0,
              "ticks": ""
             }
            },
            "type": "scattercarpet"
           }
          ],
          "scattergeo": [
           {
            "marker": {
             "colorbar": {
              "outlinewidth": 0,
              "ticks": ""
             }
            },
            "type": "scattergeo"
           }
          ],
          "scattergl": [
           {
            "marker": {
             "colorbar": {
              "outlinewidth": 0,
              "ticks": ""
             }
            },
            "type": "scattergl"
           }
          ],
          "scattermapbox": [
           {
            "marker": {
             "colorbar": {
              "outlinewidth": 0,
              "ticks": ""
             }
            },
            "type": "scattermapbox"
           }
          ],
          "scatterpolar": [
           {
            "marker": {
             "colorbar": {
              "outlinewidth": 0,
              "ticks": ""
             }
            },
            "type": "scatterpolar"
           }
          ],
          "scatterpolargl": [
           {
            "marker": {
             "colorbar": {
              "outlinewidth": 0,
              "ticks": ""
             }
            },
            "type": "scatterpolargl"
           }
          ],
          "scatterternary": [
           {
            "marker": {
             "colorbar": {
              "outlinewidth": 0,
              "ticks": ""
             }
            },
            "type": "scatterternary"
           }
          ],
          "surface": [
           {
            "colorbar": {
             "outlinewidth": 0,
             "ticks": ""
            },
            "colorscale": [
             [
              0,
              "#0d0887"
             ],
             [
              0.1111111111111111,
              "#46039f"
             ],
             [
              0.2222222222222222,
              "#7201a8"
             ],
             [
              0.3333333333333333,
              "#9c179e"
             ],
             [
              0.4444444444444444,
              "#bd3786"
             ],
             [
              0.5555555555555556,
              "#d8576b"
             ],
             [
              0.6666666666666666,
              "#ed7953"
             ],
             [
              0.7777777777777778,
              "#fb9f3a"
             ],
             [
              0.8888888888888888,
              "#fdca26"
             ],
             [
              1,
              "#f0f921"
             ]
            ],
            "type": "surface"
           }
          ],
          "table": [
           {
            "cells": {
             "fill": {
              "color": "#EBF0F8"
             },
             "line": {
              "color": "white"
             }
            },
            "header": {
             "fill": {
              "color": "#C8D4E3"
             },
             "line": {
              "color": "white"
             }
            },
            "type": "table"
           }
          ]
         },
         "layout": {
          "annotationdefaults": {
           "arrowcolor": "#2a3f5f",
           "arrowhead": 0,
           "arrowwidth": 1
          },
          "autotypenumbers": "strict",
          "coloraxis": {
           "colorbar": {
            "outlinewidth": 0,
            "ticks": ""
           }
          },
          "colorscale": {
           "diverging": [
            [
             0,
             "#8e0152"
            ],
            [
             0.1,
             "#c51b7d"
            ],
            [
             0.2,
             "#de77ae"
            ],
            [
             0.3,
             "#f1b6da"
            ],
            [
             0.4,
             "#fde0ef"
            ],
            [
             0.5,
             "#f7f7f7"
            ],
            [
             0.6,
             "#e6f5d0"
            ],
            [
             0.7,
             "#b8e186"
            ],
            [
             0.8,
             "#7fbc41"
            ],
            [
             0.9,
             "#4d9221"
            ],
            [
             1,
             "#276419"
            ]
           ],
           "sequential": [
            [
             0,
             "#0d0887"
            ],
            [
             0.1111111111111111,
             "#46039f"
            ],
            [
             0.2222222222222222,
             "#7201a8"
            ],
            [
             0.3333333333333333,
             "#9c179e"
            ],
            [
             0.4444444444444444,
             "#bd3786"
            ],
            [
             0.5555555555555556,
             "#d8576b"
            ],
            [
             0.6666666666666666,
             "#ed7953"
            ],
            [
             0.7777777777777778,
             "#fb9f3a"
            ],
            [
             0.8888888888888888,
             "#fdca26"
            ],
            [
             1,
             "#f0f921"
            ]
           ],
           "sequentialminus": [
            [
             0,
             "#0d0887"
            ],
            [
             0.1111111111111111,
             "#46039f"
            ],
            [
             0.2222222222222222,
             "#7201a8"
            ],
            [
             0.3333333333333333,
             "#9c179e"
            ],
            [
             0.4444444444444444,
             "#bd3786"
            ],
            [
             0.5555555555555556,
             "#d8576b"
            ],
            [
             0.6666666666666666,
             "#ed7953"
            ],
            [
             0.7777777777777778,
             "#fb9f3a"
            ],
            [
             0.8888888888888888,
             "#fdca26"
            ],
            [
             1,
             "#f0f921"
            ]
           ]
          },
          "colorway": [
           "#636efa",
           "#EF553B",
           "#00cc96",
           "#ab63fa",
           "#FFA15A",
           "#19d3f3",
           "#FF6692",
           "#B6E880",
           "#FF97FF",
           "#FECB52"
          ],
          "font": {
           "color": "#2a3f5f"
          },
          "geo": {
           "bgcolor": "white",
           "lakecolor": "white",
           "landcolor": "#E5ECF6",
           "showlakes": true,
           "showland": true,
           "subunitcolor": "white"
          },
          "hoverlabel": {
           "align": "left"
          },
          "hovermode": "closest",
          "mapbox": {
           "style": "light"
          },
          "paper_bgcolor": "white",
          "plot_bgcolor": "#E5ECF6",
          "polar": {
           "angularaxis": {
            "gridcolor": "white",
            "linecolor": "white",
            "ticks": ""
           },
           "bgcolor": "#E5ECF6",
           "radialaxis": {
            "gridcolor": "white",
            "linecolor": "white",
            "ticks": ""
           }
          },
          "scene": {
           "xaxis": {
            "backgroundcolor": "#E5ECF6",
            "gridcolor": "white",
            "gridwidth": 2,
            "linecolor": "white",
            "showbackground": true,
            "ticks": "",
            "zerolinecolor": "white"
           },
           "yaxis": {
            "backgroundcolor": "#E5ECF6",
            "gridcolor": "white",
            "gridwidth": 2,
            "linecolor": "white",
            "showbackground": true,
            "ticks": "",
            "zerolinecolor": "white"
           },
           "zaxis": {
            "backgroundcolor": "#E5ECF6",
            "gridcolor": "white",
            "gridwidth": 2,
            "linecolor": "white",
            "showbackground": true,
            "ticks": "",
            "zerolinecolor": "white"
           }
          },
          "shapedefaults": {
           "line": {
            "color": "#2a3f5f"
           }
          },
          "ternary": {
           "aaxis": {
            "gridcolor": "white",
            "linecolor": "white",
            "ticks": ""
           },
           "baxis": {
            "gridcolor": "white",
            "linecolor": "white",
            "ticks": ""
           },
           "bgcolor": "#E5ECF6",
           "caxis": {
            "gridcolor": "white",
            "linecolor": "white",
            "ticks": ""
           }
          },
          "title": {
           "x": 0.05
          },
          "xaxis": {
           "automargin": true,
           "gridcolor": "white",
           "linecolor": "white",
           "ticks": "",
           "title": {
            "standoff": 15
           },
           "zerolinecolor": "white",
           "zerolinewidth": 2
          },
          "yaxis": {
           "automargin": true,
           "gridcolor": "white",
           "linecolor": "white",
           "ticks": "",
           "title": {
            "standoff": 15
           },
           "zerolinecolor": "white",
           "zerolinewidth": 2
          }
         }
        },
        "width": 845
       }
      },
      "text/html": [
       "<div>                            <div id=\"9c127d14-08f9-4350-a258-e1378a117db2\" class=\"plotly-graph-div\" style=\"height:640px; width:845px;\"></div>            <script type=\"text/javascript\">                require([\"plotly\"], function(Plotly) {                    window.PLOTLYENV=window.PLOTLYENV || {};                                    if (document.getElementById(\"9c127d14-08f9-4350-a258-e1378a117db2\")) {                    Plotly.newPlot(                        \"9c127d14-08f9-4350-a258-e1378a117db2\",                        [{\"colorscale\":[[0.0,\"rgb(0,0,131)\"],[0.2,\"rgb(0,60,170)\"],[0.4,\"rgb(5,255,255)\"],[0.6,\"rgb(255,255,0)\"],[0.8,\"rgb(250,0,0)\"],[1.0,\"rgb(128,0,0)\"]],\"geojson\":\"https:\\u002f\\u002fraw.githubusercontent.com\\u002fjohan\\u002fworld.geo.json\\u002fmaster\\u002fcountries.geo.json\",\"locations\":[\"USA\",\"CAN\",\"MEX\",\"RUS\",\"CHN\"],\"marker\":{\"line\":{\"width\":1},\"opacity\":0.9},\"z\":[1,1,1,1,1],\"zmax\":5,\"zmin\":2,\"type\":\"choroplethmapbox\"},{\"lat\":[37.411,37.39,38.274,37.23,37.201,37.208,38.258,38.384,36.1,35.884,36.989,37.275,38.147,37.811,37.812,37.802,37.822,37.69,38.454,36.638,38.44,38.276,38.244,36.973,36.997,37.32,35.684,38.469,38.477,38.446,38.419,38.449,38.438,38.46,38.293,35.442,36.897,36.072,35.627,35.638,37.588,37.054,36.472,37.409,38.369,37.444,36.946,37.836,37.454,37.499,37.41,37.481],\"lon\":[36.044,36.356,38.814,36.36,36.395,36.403,38.646,39.088,36.299,35.784,37.06,36.432,38.584,36.054,36.091,36.078,36.086,35.383,36.609,36.694,36.64,38.752,38.785,36.052,36.017,36.379,36.626,39.136,39.099,39.15,39.108,39.158,39.127,39.144,38.786,36.683,36.634,37.672,36.608,36.574,35.477,36.174,38.576,36.376,39.086,37.176,35.872,35.225,37.161,37.137,37.162,37.156],\"marker\":{\"color\":[2.0,2.7,2.5,2.1,2.2,4.6,2.6,2.0,2.0,4.4,2.1,2.3,2.2,2.2,2.7,2.6,2.0,2.8,3.1,2.9,2.6,2.1,2.2,2.8,3.3,3.2,2.0,2.3,2.2,2.4,2.0,2.0,2.3,4.9,2.0,2.2,2.1,2.2,2.2,4.6,2.0,2.6,2.1,2.9,3.6,2.2,2.1,2.6,2.1,2.5,2.0,2.1],\"colorscale\":[[0.0,\"rgb(0,0,131)\"],[0.2,\"rgb(0,60,170)\"],[0.4,\"rgb(5,255,255)\"],[0.6,\"rgb(255,255,0)\"],[0.8,\"rgb(250,0,0)\"],[1.0,\"rgb(128,0,0)\"]],\"size\":[10.0,13.5,12.5,10.5,11.0,23.0,13.0,10.0,10.0,22.0,10.5,11.5,11.0,11.0,13.5,13.0,10.0,14.0,15.5,14.5,13.0,10.5,11.0,14.0,16.5,16.0,10.0,11.5,11.0,12.0,10.0,10.0,11.5,24.5,10.0,11.0,10.5,11.0,11.0,23.0,10.0,13.0,10.5,14.5,18.0,11.0,10.5,13.0,10.5,12.5,10.0,10.5]},\"mode\":\"markers\",\"type\":\"scattermapbox\"}],                        {\"template\":{\"data\":{\"histogram2dcontour\":[{\"type\":\"histogram2dcontour\",\"colorbar\":{\"outlinewidth\":0,\"ticks\":\"\"},\"colorscale\":[[0.0,\"#0d0887\"],[0.1111111111111111,\"#46039f\"],[0.2222222222222222,\"#7201a8\"],[0.3333333333333333,\"#9c179e\"],[0.4444444444444444,\"#bd3786\"],[0.5555555555555556,\"#d8576b\"],[0.6666666666666666,\"#ed7953\"],[0.7777777777777778,\"#fb9f3a\"],[0.8888888888888888,\"#fdca26\"],[1.0,\"#f0f921\"]]}],\"choropleth\":[{\"type\":\"choropleth\",\"colorbar\":{\"outlinewidth\":0,\"ticks\":\"\"}}],\"histogram2d\":[{\"type\":\"histogram2d\",\"colorbar\":{\"outlinewidth\":0,\"ticks\":\"\"},\"colorscale\":[[0.0,\"#0d0887\"],[0.1111111111111111,\"#46039f\"],[0.2222222222222222,\"#7201a8\"],[0.3333333333333333,\"#9c179e\"],[0.4444444444444444,\"#bd3786\"],[0.5555555555555556,\"#d8576b\"],[0.6666666666666666,\"#ed7953\"],[0.7777777777777778,\"#fb9f3a\"],[0.8888888888888888,\"#fdca26\"],[1.0,\"#f0f921\"]]}],\"heatmap\":[{\"type\":\"heatmap\",\"colorbar\":{\"outlinewidth\":0,\"ticks\":\"\"},\"colorscale\":[[0.0,\"#0d0887\"],[0.1111111111111111,\"#46039f\"],[0.2222222222222222,\"#7201a8\"],[0.3333333333333333,\"#9c179e\"],[0.4444444444444444,\"#bd3786\"],[0.5555555555555556,\"#d8576b\"],[0.6666666666666666,\"#ed7953\"],[0.7777777777777778,\"#fb9f3a\"],[0.8888888888888888,\"#fdca26\"],[1.0,\"#f0f921\"]]}],\"heatmapgl\":[{\"type\":\"heatmapgl\",\"colorbar\":{\"outlinewidth\":0,\"ticks\":\"\"},\"colorscale\":[[0.0,\"#0d0887\"],[0.1111111111111111,\"#46039f\"],[0.2222222222222222,\"#7201a8\"],[0.3333333333333333,\"#9c179e\"],[0.4444444444444444,\"#bd3786\"],[0.5555555555555556,\"#d8576b\"],[0.6666666666666666,\"#ed7953\"],[0.7777777777777778,\"#fb9f3a\"],[0.8888888888888888,\"#fdca26\"],[1.0,\"#f0f921\"]]}],\"contourcarpet\":[{\"type\":\"contourcarpet\",\"colorbar\":{\"outlinewidth\":0,\"ticks\":\"\"}}],\"contour\":[{\"type\":\"contour\",\"colorbar\":{\"outlinewidth\":0,\"ticks\":\"\"},\"colorscale\":[[0.0,\"#0d0887\"],[0.1111111111111111,\"#46039f\"],[0.2222222222222222,\"#7201a8\"],[0.3333333333333333,\"#9c179e\"],[0.4444444444444444,\"#bd3786\"],[0.5555555555555556,\"#d8576b\"],[0.6666666666666666,\"#ed7953\"],[0.7777777777777778,\"#fb9f3a\"],[0.8888888888888888,\"#fdca26\"],[1.0,\"#f0f921\"]]}],\"surface\":[{\"type\":\"surface\",\"colorbar\":{\"outlinewidth\":0,\"ticks\":\"\"},\"colorscale\":[[0.0,\"#0d0887\"],[0.1111111111111111,\"#46039f\"],[0.2222222222222222,\"#7201a8\"],[0.3333333333333333,\"#9c179e\"],[0.4444444444444444,\"#bd3786\"],[0.5555555555555556,\"#d8576b\"],[0.6666666666666666,\"#ed7953\"],[0.7777777777777778,\"#fb9f3a\"],[0.8888888888888888,\"#fdca26\"],[1.0,\"#f0f921\"]]}],\"mesh3d\":[{\"type\":\"mesh3d\",\"colorbar\":{\"outlinewidth\":0,\"ticks\":\"\"}}],\"scatter\":[{\"fillpattern\":{\"fillmode\":\"overlay\",\"size\":10,\"solidity\":0.2},\"type\":\"scatter\"}],\"parcoords\":[{\"type\":\"parcoords\",\"line\":{\"colorbar\":{\"outlinewidth\":0,\"ticks\":\"\"}}}],\"scatterpolargl\":[{\"type\":\"scatterpolargl\",\"marker\":{\"colorbar\":{\"outlinewidth\":0,\"ticks\":\"\"}}}],\"bar\":[{\"error_x\":{\"color\":\"#2a3f5f\"},\"error_y\":{\"color\":\"#2a3f5f\"},\"marker\":{\"line\":{\"color\":\"#E5ECF6\",\"width\":0.5},\"pattern\":{\"fillmode\":\"overlay\",\"size\":10,\"solidity\":0.2}},\"type\":\"bar\"}],\"scattergeo\":[{\"type\":\"scattergeo\",\"marker\":{\"colorbar\":{\"outlinewidth\":0,\"ticks\":\"\"}}}],\"scatterpolar\":[{\"type\":\"scatterpolar\",\"marker\":{\"colorbar\":{\"outlinewidth\":0,\"ticks\":\"\"}}}],\"histogram\":[{\"marker\":{\"pattern\":{\"fillmode\":\"overlay\",\"size\":10,\"solidity\":0.2}},\"type\":\"histogram\"}],\"scattergl\":[{\"type\":\"scattergl\",\"marker\":{\"colorbar\":{\"outlinewidth\":0,\"ticks\":\"\"}}}],\"scatter3d\":[{\"type\":\"scatter3d\",\"line\":{\"colorbar\":{\"outlinewidth\":0,\"ticks\":\"\"}},\"marker\":{\"colorbar\":{\"outlinewidth\":0,\"ticks\":\"\"}}}],\"scattermapbox\":[{\"type\":\"scattermapbox\",\"marker\":{\"colorbar\":{\"outlinewidth\":0,\"ticks\":\"\"}}}],\"scatterternary\":[{\"type\":\"scatterternary\",\"marker\":{\"colorbar\":{\"outlinewidth\":0,\"ticks\":\"\"}}}],\"scattercarpet\":[{\"type\":\"scattercarpet\",\"marker\":{\"colorbar\":{\"outlinewidth\":0,\"ticks\":\"\"}}}],\"carpet\":[{\"aaxis\":{\"endlinecolor\":\"#2a3f5f\",\"gridcolor\":\"white\",\"linecolor\":\"white\",\"minorgridcolor\":\"white\",\"startlinecolor\":\"#2a3f5f\"},\"baxis\":{\"endlinecolor\":\"#2a3f5f\",\"gridcolor\":\"white\",\"linecolor\":\"white\",\"minorgridcolor\":\"white\",\"startlinecolor\":\"#2a3f5f\"},\"type\":\"carpet\"}],\"table\":[{\"cells\":{\"fill\":{\"color\":\"#EBF0F8\"},\"line\":{\"color\":\"white\"}},\"header\":{\"fill\":{\"color\":\"#C8D4E3\"},\"line\":{\"color\":\"white\"}},\"type\":\"table\"}],\"barpolar\":[{\"marker\":{\"line\":{\"color\":\"#E5ECF6\",\"width\":0.5},\"pattern\":{\"fillmode\":\"overlay\",\"size\":10,\"solidity\":0.2}},\"type\":\"barpolar\"}],\"pie\":[{\"automargin\":true,\"type\":\"pie\"}]},\"layout\":{\"autotypenumbers\":\"strict\",\"colorway\":[\"#636efa\",\"#EF553B\",\"#00cc96\",\"#ab63fa\",\"#FFA15A\",\"#19d3f3\",\"#FF6692\",\"#B6E880\",\"#FF97FF\",\"#FECB52\"],\"font\":{\"color\":\"#2a3f5f\"},\"hovermode\":\"closest\",\"hoverlabel\":{\"align\":\"left\"},\"paper_bgcolor\":\"white\",\"plot_bgcolor\":\"#E5ECF6\",\"polar\":{\"bgcolor\":\"#E5ECF6\",\"angularaxis\":{\"gridcolor\":\"white\",\"linecolor\":\"white\",\"ticks\":\"\"},\"radialaxis\":{\"gridcolor\":\"white\",\"linecolor\":\"white\",\"ticks\":\"\"}},\"ternary\":{\"bgcolor\":\"#E5ECF6\",\"aaxis\":{\"gridcolor\":\"white\",\"linecolor\":\"white\",\"ticks\":\"\"},\"baxis\":{\"gridcolor\":\"white\",\"linecolor\":\"white\",\"ticks\":\"\"},\"caxis\":{\"gridcolor\":\"white\",\"linecolor\":\"white\",\"ticks\":\"\"}},\"coloraxis\":{\"colorbar\":{\"outlinewidth\":0,\"ticks\":\"\"}},\"colorscale\":{\"sequential\":[[0.0,\"#0d0887\"],[0.1111111111111111,\"#46039f\"],[0.2222222222222222,\"#7201a8\"],[0.3333333333333333,\"#9c179e\"],[0.4444444444444444,\"#bd3786\"],[0.5555555555555556,\"#d8576b\"],[0.6666666666666666,\"#ed7953\"],[0.7777777777777778,\"#fb9f3a\"],[0.8888888888888888,\"#fdca26\"],[1.0,\"#f0f921\"]],\"sequentialminus\":[[0.0,\"#0d0887\"],[0.1111111111111111,\"#46039f\"],[0.2222222222222222,\"#7201a8\"],[0.3333333333333333,\"#9c179e\"],[0.4444444444444444,\"#bd3786\"],[0.5555555555555556,\"#d8576b\"],[0.6666666666666666,\"#ed7953\"],[0.7777777777777778,\"#fb9f3a\"],[0.8888888888888888,\"#fdca26\"],[1.0,\"#f0f921\"]],\"diverging\":[[0,\"#8e0152\"],[0.1,\"#c51b7d\"],[0.2,\"#de77ae\"],[0.3,\"#f1b6da\"],[0.4,\"#fde0ef\"],[0.5,\"#f7f7f7\"],[0.6,\"#e6f5d0\"],[0.7,\"#b8e186\"],[0.8,\"#7fbc41\"],[0.9,\"#4d9221\"],[1,\"#276419\"]]},\"xaxis\":{\"gridcolor\":\"white\",\"linecolor\":\"white\",\"ticks\":\"\",\"title\":{\"standoff\":15},\"zerolinecolor\":\"white\",\"automargin\":true,\"zerolinewidth\":2},\"yaxis\":{\"gridcolor\":\"white\",\"linecolor\":\"white\",\"ticks\":\"\",\"title\":{\"standoff\":15},\"zerolinecolor\":\"white\",\"automargin\":true,\"zerolinewidth\":2},\"scene\":{\"xaxis\":{\"backgroundcolor\":\"#E5ECF6\",\"gridcolor\":\"white\",\"linecolor\":\"white\",\"showbackground\":true,\"ticks\":\"\",\"zerolinecolor\":\"white\",\"gridwidth\":2},\"yaxis\":{\"backgroundcolor\":\"#E5ECF6\",\"gridcolor\":\"white\",\"linecolor\":\"white\",\"showbackground\":true,\"ticks\":\"\",\"zerolinecolor\":\"white\",\"gridwidth\":2},\"zaxis\":{\"backgroundcolor\":\"#E5ECF6\",\"gridcolor\":\"white\",\"linecolor\":\"white\",\"showbackground\":true,\"ticks\":\"\",\"zerolinecolor\":\"white\",\"gridwidth\":2}},\"shapedefaults\":{\"line\":{\"color\":\"#2a3f5f\"}},\"annotationdefaults\":{\"arrowcolor\":\"#2a3f5f\",\"arrowhead\":0,\"arrowwidth\":1},\"geo\":{\"bgcolor\":\"white\",\"landcolor\":\"#E5ECF6\",\"subunitcolor\":\"white\",\"showland\":true,\"showlakes\":true,\"lakecolor\":\"white\"},\"title\":{\"x\":0.05},\"mapbox\":{\"style\":\"light\"}}},\"mapbox\":{\"center\":{\"lat\":37.0,\"lon\":37.0},\"style\":\"open-street-map\",\"zoom\":6},\"font\":{\"size\":25},\"width\":845,\"height\":640},                        {\"responsive\": true}                    ).then(function(){\n",
       "                            \n",
       "var gd = document.getElementById('9c127d14-08f9-4350-a258-e1378a117db2');\n",
       "var x = new MutationObserver(function (mutations, observer) {{\n",
       "        var display = window.getComputedStyle(gd).display;\n",
       "        if (!display || display === 'none') {{\n",
       "            console.log([gd, 'removed!']);\n",
       "            Plotly.purge(gd);\n",
       "            observer.disconnect();\n",
       "        }}\n",
       "}});\n",
       "\n",
       "// Listen for the removal of the full notebook cells\n",
       "var notebookContainer = gd.closest('#notebook-container');\n",
       "if (notebookContainer) {{\n",
       "    x.observe(notebookContainer, {childList: true});\n",
       "}}\n",
       "\n",
       "// Listen for the clearing of the current output cell\n",
       "var outputEl = gd.closest('.output');\n",
       "if (outputEl) {{\n",
       "    x.observe(outputEl, {childList: true});\n",
       "}}\n",
       "\n",
       "                        })                };                });            </script>        </div>"
      ]
     },
     "metadata": {},
     "output_type": "display_data"
    }
   ],
   "source": [
    "import plotly.graph_objects as go\n",
    "\n",
    "# Obtain high-resolution world map data online\n",
    "fig = go.Figure(go.Choroplethmapbox(\n",
    "    geojson=\"https://raw.githubusercontent.com/johan/world.geo.json/master/countries.geo.json\",\n",
    "    locations=[\"USA\", \"CAN\", \"MEX\", \"RUS\", \"CHN\"],  # Example country codes (USA, Canada, Mexico, Russia, China)\n",
    "    z=[1, 1, 1, 1, 1],  # Values to be assigned to countries (all set to 1)\n",
    "    colorscale='Jet',  # Color scale name (Viridis, YlGnBu, Jet, etc.)\n",
    "    zmin=2,\n",
    "    zmax=5,\n",
    "    marker_opacity=0.9,  # Opacity of country borders\n",
    "    marker_line_width=1,  # Thickness of country borders\n",
    "))\n",
    "\n",
    "# Create sample earthquake data\n",
    "earthquake_data = {\n",
    "    'Longitude': x,\n",
    "    'Latitude': y,\n",
    "    'Magnitude': colors,\n",
    "}\n",
    "\n",
    "# Add earthquake data with Scatter plot\n",
    "fig.add_trace(go.Scattermapbox(\n",
    "    lat=earthquake_data['Latitude'],\n",
    "    lon=earthquake_data['Longitude'],\n",
    "    mode='markers',\n",
    "    marker=dict(\n",
    "        size=earthquake_data['Magnitude'] * 5,  # Set point sizes based on Magnitude value\n",
    "        color=earthquake_data['Magnitude'],  # Set color scale based on Magnitude value\n",
    "        colorscale='Jet',  # Color scale name (Viridis, YlGnBu, Jet, etc.)\n",
    "    ),\n",
    "))\n",
    "\n",
    "# Specify map layout and style\n",
    "fig.update_layout(\n",
    "    mapbox_style=\"open-street-map\",  # Set map style (for other styles: \"open-street-map\", \"stamen-terrain\", etc.)\n",
    "    mapbox_zoom=6,  # Set map zoom level\n",
    "    mapbox_center={\"lat\": 37.000, \"lon\": 37.0000},  # Set map center (center of the USA)\n",
    ")\n",
    "\n",
    "# Increase resolution and font size\n",
    "fig.update_layout(\n",
    "    width=845,  # Set width to increase resolution\n",
    "    height=640,  # Set height to increase resolution\n",
    "    font=dict(\n",
    "        size=25  # Set font size for English comments\n",
    "    )\n",
    ")\n",
    "\n",
    "# Display the plot\n",
    "fig.show()"
   ]
  },
  {
   "cell_type": "code",
   "execution_count": 36,
   "metadata": {},
   "outputs": [
    {
     "data": {
      "application/vnd.jupyter.widget-view+json": {
       "model_id": "e556357e18d74f648716637fb4d3c0c8",
       "version_major": 2,
       "version_minor": 0
      },
      "text/plain": [
       "interactive(children=(IntSlider(value=30, description='Elevation:', max=180), IntSlider(value=30, description=…"
      ]
     },
     "metadata": {},
     "output_type": "display_data"
    }
   ],
   "source": [
    "import numpy as np\n",
    "import matplotlib.pyplot as plt\n",
    "from mpl_toolkits.mplot3d import Axes3D\n",
    "import ipywidgets as widgets\n",
    "from ipywidgets import interactive\n",
    "from IPython.display import display\n",
    "\n",
    "\n",
    "\n",
    "# İnteraktif işlev\n",
    "\n",
    "def plot_3d_scatter(elev, azim, zoom, theta):\n",
    "    fig = plt.figure(figsize=(12, 10)) \n",
    "    ax = fig.add_subplot(111, projection='3d')\n",
    "    \n",
    "    ax.scatter(x, y, z, c=colors, s=sizes, cmap='jet')\n",
    "    cbar = plt.colorbar(ax.scatter(x, y, z, c=colors, s=sizes, cmap='jet'))    \n",
    "    cbar.set_label('Magnitude')  \n",
    "\n",
    "    ax.view_init(elev=elev, azim=azim)\n",
    "    ax.set_xlabel('Longitude')\n",
    "    ax.set_ylabel('Latitude')\n",
    "    ax.set_zlabel('Depth_km')  \n",
    "    ax.dist = zoom  # Zoom ayarı\n",
    "    ax.azim = theta  # Maus ile çevirme\n",
    "    plt.show()\n",
    "\n",
    "# İnteraktif widget'ı oluşturma\n",
    "elev_slider = widgets.IntSlider(min=0, max=180, value=30, description='Elevation:')\n",
    "azim_slider = widgets.IntSlider(min=0, max=360, value=30, description='Azimuth:')\n",
    "zoom_slider = widgets.FloatSlider(min=1, max=10, value=5, description='Zoom:')\n",
    "theta_slider = widgets.IntSlider(min=0, max=360, value=30, description='Theta:')\n",
    "interactive_plot = interactive(plot_3d_scatter, elev=elev_slider, azim=azim_slider, zoom=zoom_slider, theta=theta_slider)\n",
    "\n",
    "# Widget'ı görüntüleme\n",
    "display(interactive_plot)"
   ]
  },
  {
   "cell_type": "code",
   "execution_count": 31,
   "metadata": {},
   "outputs": [],
   "source": [
    "x = Doublet_EAF_35F3.iloc[:,1].values\n",
    "y = Doublet_EAF_35F3.iloc[:,2].values\n",
    "z = Doublet_EAF_35F3.iloc[:,0].values\n",
    "colors = Doublet_EAF_35F3.iloc[:,4].values\n",
    "sizes = Doublet_EAF_35F3.iloc[:,4].values*20"
   ]
  },
  {
   "cell_type": "code",
   "execution_count": 12,
   "metadata": {},
   "outputs": [
    {
     "data": {
      "text/plain": [
       "array(['05/02/2023 04:16:52', '04/02/2023 08:22:17',\n",
       "       '03/02/2023 22:43:10', '03/02/2023 22:06:30',\n",
       "       '03/02/2023 11:37:12', '03/02/2023 11:05:08',\n",
       "       '01/02/2023 07:02:04', '31/01/2023 03:24:58',\n",
       "       '30/01/2023 05:16:45', '29/01/2023 16:12:39',\n",
       "       '29/01/2023 03:02:06', '26/01/2023 08:44:47',\n",
       "       '25/01/2023 23:38:56', '25/01/2023 08:06:25',\n",
       "       '25/01/2023 06:06:11', '25/01/2023 05:21:23',\n",
       "       '25/01/2023 00:57:36', '24/01/2023 21:40:44',\n",
       "       '22/01/2023 02:28:39', '21/01/2023 20:47:12',\n",
       "       '21/01/2023 10:51:47', '21/01/2023 02:26:54',\n",
       "       '20/01/2023 23:03:59', '19/01/2023 23:04:28',\n",
       "       '18/01/2023 13:30:47', '17/01/2023 18:22:40',\n",
       "       '17/01/2023 04:12:30', '16/01/2023 00:46:33',\n",
       "       '15/01/2023 05:59:25', '15/01/2023 04:32:37',\n",
       "       '15/01/2023 04:29:04', '15/01/2023 04:07:27',\n",
       "       '15/01/2023 03:39:37', '15/01/2023 03:36:26',\n",
       "       '13/01/2023 23:02:44', '13/01/2023 20:44:08',\n",
       "       '13/01/2023 19:48:04', '13/01/2023 18:29:44',\n",
       "       '13/01/2023 07:16:02', '12/01/2023 20:40:49',\n",
       "       '11/01/2023 12:41:33', '09/01/2023 15:25:39',\n",
       "       '09/01/2023 13:27:54', '09/01/2023 11:53:40',\n",
       "       '09/01/2023 05:57:42', '09/01/2023 01:11:57',\n",
       "       '07/01/2023 22:58:27', '07/01/2023 20:47:42',\n",
       "       '06/01/2023 01:21:03', '05/01/2023 13:48:35',\n",
       "       '05/01/2023 07:43:08', '05/01/2023 07:41:03'], dtype=object)"
      ]
     },
     "execution_count": 12,
     "metadata": {},
     "output_type": "execute_result"
    }
   ],
   "source": [
    "z"
   ]
  },
  {
   "cell_type": "code",
   "execution_count": 13,
   "metadata": {},
   "outputs": [
    {
     "name": "stdout",
     "output_type": "stream",
     "text": [
      "[1675559812.0, 1675488137.0, 1675453390.0, 1675451190.0, 1675413432.0, 1675411508.0, 1675224124.0, 1675124698.0, 1675045005.0, 1674997959.0, 1674950526.0, 1674711887.0, 1674679136.0, 1674623185.0, 1674615971.0, 1674613283.0, 1674597456.0, 1674585644.0, 1674343719.0, 1674323232.0, 1674287507.0, 1674257214.0, 1674245039.0, 1674158668.0, 1674037847.0, 1673968960.0, 1673917950.0, 1673819193.0, 1673751565.0, 1673746357.0, 1673746144.0, 1673744847.0, 1673743177.0, 1673742986.0, 1673640164.0, 1673631848.0, 1673628484.0, 1673623784.0, 1673583362.0, 1673545249.0, 1673430093.0, 1673267139.0, 1673260074.0, 1673254420.0, 1673233062.0, 1673215917.0, 1673121507.0, 1673113662.0, 1672957263.0, 1672915715.0, 1672893788.0, 1672893663.0]\n"
     ]
    }
   ],
   "source": [
    "from datetime import datetime\n",
    "\n",
    "# Zaman damgalarını içeren bir liste oluştur\n",
    "timestamps = z\n",
    "\n",
    "# Zaman damgalarını saniyeye dönüştür\n",
    "seconds = [datetime.timestamp(datetime.strptime(timestamp, '%d/%m/%Y %H:%M:%S')) for timestamp in timestamps]\n",
    "\n",
    "print(seconds) # Saniye cinsinden zaman damgalarını görüntüle\n"
   ]
  },
  {
   "cell_type": "code",
   "execution_count": 14,
   "metadata": {},
   "outputs": [
    {
     "data": {
      "text/plain": [
       "[1675559812.0,\n",
       " 1675488137.0,\n",
       " 1675453390.0,\n",
       " 1675451190.0,\n",
       " 1675413432.0,\n",
       " 1675411508.0,\n",
       " 1675224124.0,\n",
       " 1675124698.0,\n",
       " 1675045005.0,\n",
       " 1674997959.0,\n",
       " 1674950526.0,\n",
       " 1674711887.0,\n",
       " 1674679136.0,\n",
       " 1674623185.0,\n",
       " 1674615971.0,\n",
       " 1674613283.0,\n",
       " 1674597456.0,\n",
       " 1674585644.0,\n",
       " 1674343719.0,\n",
       " 1674323232.0,\n",
       " 1674287507.0,\n",
       " 1674257214.0,\n",
       " 1674245039.0,\n",
       " 1674158668.0,\n",
       " 1674037847.0,\n",
       " 1673968960.0,\n",
       " 1673917950.0,\n",
       " 1673819193.0,\n",
       " 1673751565.0,\n",
       " 1673746357.0,\n",
       " 1673746144.0,\n",
       " 1673744847.0,\n",
       " 1673743177.0,\n",
       " 1673742986.0,\n",
       " 1673640164.0,\n",
       " 1673631848.0,\n",
       " 1673628484.0,\n",
       " 1673623784.0,\n",
       " 1673583362.0,\n",
       " 1673545249.0,\n",
       " 1673430093.0,\n",
       " 1673267139.0,\n",
       " 1673260074.0,\n",
       " 1673254420.0,\n",
       " 1673233062.0,\n",
       " 1673215917.0,\n",
       " 1673121507.0,\n",
       " 1673113662.0,\n",
       " 1672957263.0,\n",
       " 1672915715.0,\n",
       " 1672893788.0,\n",
       " 1672893663.0]"
      ]
     },
     "execution_count": 14,
     "metadata": {},
     "output_type": "execute_result"
    }
   ],
   "source": [
    "seconds "
   ]
  },
  {
   "cell_type": "code",
   "execution_count": 15,
   "metadata": {},
   "outputs": [],
   "source": [
    "x = Doublet_EAF_35F3.iloc[:,1].values\n",
    "y = Doublet_EAF_35F3.iloc[:,2].values\n",
    "z = seconds \n",
    "colors = Doublet_EAF_35F3.iloc[:,4].values\n",
    "sizes = Doublet_EAF_35F3.iloc[:,4].values*50"
   ]
  },
  {
   "cell_type": "code",
   "execution_count": 24,
   "metadata": {},
   "outputs": [
    {
     "data": {
      "image/png": "[encoded data removed]",
      "text/plain": [
       "<Figure size 864x576 with 2 Axes>"
      ]
     },
     "metadata": {
      "needs_background": "light"
     },
     "output_type": "display_data"
    }
   ],
   "source": [
    "import matplotlib.pyplot as plt\n",
    "from mpl_toolkits.mplot3d import Axes3D\n",
    "import numpy as np\n",
    "from datetime import datetime\n",
    "\n",
    "# Assuming Doublet_EAF_35F3 is a DataFrame with appropriate columns\n",
    "x = Doublet_EAF_35F3.iloc[:, 1].values\n",
    "y = Doublet_EAF_35F3.iloc[:, 2].values\n",
    "z = seconds \n",
    "colors = Doublet_EAF_35F3.iloc[:, 4].values\n",
    "sizes = Doublet_EAF_35F3.iloc[:, 4].values * 50\n",
    "\n",
    "fig = plt.figure(figsize=(12, 8))\n",
    "ax = fig.add_subplot(111, projection='3d')\n",
    "\n",
    "# Scatter plot\n",
    "scatter = ax.scatter(x, y, z, c=colors, s=sizes, cmap='jet')\n",
    "\n",
    "# Colorbar\n",
    "cbar = plt.colorbar(scatter)\n",
    "cbar.set_label('Magnitude')\n",
    "\n",
    "# Labeling axes\n",
    "ax.set_xlabel('Longitude')\n",
    "ax.set_ylabel('Latitude')\n",
    "ax.set_zlabel('Time')\n",
    "\n",
    "# Formatting time ticks\n",
    "# Assuming seconds is a list or array of time values\n",
    "# Adjust the ticks and labels according to your data\n",
    "time_ticks = np.linspace(min(seconds), max(seconds), 5)\n",
    "time_labels = [datetime.fromtimestamp(t).strftime('%m/%d') for t in time_ticks]  # Format güncellendi\n",
    "ax.set_zticks(time_ticks)\n",
    "ax.set_zticklabels(time_labels)\n",
    "\n",
    "# Adjust font size\n",
    "plt.rc('font', size=15)\n",
    "\n",
    "plt.show()\n"
   ]
  },
  {
   "cell_type": "code",
   "execution_count": null,
   "metadata": {},
   "outputs": [],
   "source": []
  }
 ],
 "metadata": {
  "kernelspec": {
   "display_name": "Python 3",
   "language": "python",
   "name": "python3"
  },
  "language_info": {
   "codemirror_mode": {
    "name": "ipython",
    "version": 3
   },
   "file_extension": ".py",
   "mimetype": "text/x-python",
   "name": "python",
   "nbconvert_exporter": "python",
   "pygments_lexer": "ipython3",
   "version": "3.8.3"
  }
 },
 "nbformat": 4,
 "nbformat_minor": 4
}
